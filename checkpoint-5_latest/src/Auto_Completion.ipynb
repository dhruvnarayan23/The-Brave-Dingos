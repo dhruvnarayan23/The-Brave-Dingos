{
  "nbformat": 4,
  "nbformat_minor": 0,
  "metadata": {
    "colab": {
      "name": "Auto_Completion.ipynb",
      "provenance": [],
      "machine_shape": "hm"
    },
    "kernelspec": {
      "name": "python3",
      "display_name": "Python 3"
    },
    "language_info": {
      "name": "python"
    },
    "accelerator": "GPU"
  },
  "cells": [
    {
      "cell_type": "code",
      "metadata": {
        "colab": {
          "base_uri": "https://localhost:8080/",
          "height": 193
        },
        "id": "9R_zDFBVfofT",
        "outputId": "cb85d4d6-f0c2-4804-b80d-e504c9e2aef6"
      },
      "source": [
        "#necessary libraries for topic-modeling\n",
        "import base64\n",
        "import numpy as np\n",
        "import pandas as pd\n",
        "# Plotly imports\n",
        "import plotly.offline as py\n",
        "py.init_notebook_mode(connected=True)\n",
        "import plotly.graph_objs as go\n",
        "import plotly.tools as tls\n",
        "#postgre connection import\n",
        "import psycopg2\n",
        "# Other imports\n",
        "from collections import Counter\n",
        "from imageio import imread\n",
        "from sklearn.feature_extraction.text import TfidfVectorizer, CountVectorizer\n",
        "from sklearn.decomposition import NMF, LatentDirichletAllocation\n",
        "from matplotlib import pyplot as plt\n",
        "%matplotlib inline\n",
        "# spacy for lemmatization\n",
        "import spacy\n",
        "import numpy as np\n",
        "import pandas as pd\n",
        "import matplotlib.pyplot as plt\n",
        "import nltk\n",
        "import string\n",
        "from tensorflow import keras\n",
        "from tensorflow.keras import layers\n",
        "\n",
        "import numpy as np\n",
        "import random\n",
        "import io\n",
        "# import unidecode\n",
        "import random\n",
        "import torch\n",
        "import gensim\n",
        "import gensim.corpora as corpora\n",
        "from gensim.utils import simple_preprocess\n",
        "from gensim.models import CoherenceModel\n",
        "import re\n",
        "from pprint import pprint\n",
        "\n",
        "from keras import utils as np_utils\n",
        "from tensorflow.keras.utils import to_categorical\n",
        "\n",
        "# keras module for building LSTM \n",
        "from keras.preprocessing.sequence import pad_sequences\n",
        "from keras.layers import Embedding, LSTM, Dense, Dropout\n",
        "from keras.preprocessing.text import Tokenizer\n",
        "from keras.callbacks import EarlyStopping\n",
        "from keras.models import Sequential\n",
        "import keras.utils as ku \n",
        "\n",
        "# set seeds for reproducability\n",
        "import tensorflow\n",
        "from numpy.random import seed\n",
        "tensorflow.random.set_seed(2)\n",
        "seed(1)\n",
        "import numpy as np\n",
        "import pandas as pd\n",
        "from tqdm import tqdm\n",
        "from collections import Counter\n",
        "!pip install pyspellchecker\n",
        "import re \n",
        "from wordcloud import WordCloud, STOPWORDS\n",
        "from spellchecker import SpellChecker\n",
        "import os\n",
        "import torch\n",
        "import torch.nn as nn\n",
        "import torch.nn.functional as F\n",
        "from torch.autograd import Variable\n",
        "import numpy as np\n",
        "from collections import Counter\n",
        "%matplotlib inline\n",
        "import torch.utils.data\n",
        "from matplotlib.ticker import MaxNLocator\n",
        "import matplotlib.pyplot as plt\n",
        "import warnings\n",
        "warnings.filterwarnings(\"ignore\")\n",
        "import os\n",
        "\n",
        "import pandas as pd\n",
        "import numpy as np\n",
        "import string, os \n",
        "\n",
        "import warnings\n",
        "warnings.filterwarnings(\"ignore\")\n",
        "warnings.simplefilter(action='ignore', category=FutureWarning)"
      ],
      "execution_count": null,
      "outputs": [
        {
          "output_type": "display_data",
          "data": {
            "text/html": [
              "        <script type=\"text/javascript\">\n",
              "        window.PlotlyConfig = {MathJaxConfig: 'local'};\n",
              "        if (window.MathJax) {MathJax.Hub.Config({SVG: {font: \"STIX-Web\"}});}\n",
              "        if (typeof require !== 'undefined') {\n",
              "        require.undef(\"plotly\");\n",
              "        requirejs.config({\n",
              "            paths: {\n",
              "                'plotly': ['https://cdn.plot.ly/plotly-latest.min']\n",
              "            }\n",
              "        });\n",
              "        require(['plotly'], function(Plotly) {\n",
              "            window._Plotly = Plotly;\n",
              "        });\n",
              "        }\n",
              "        </script>\n",
              "        "
            ]
          },
          "metadata": {}
        },
        {
          "output_type": "stream",
          "name": "stderr",
          "text": [
            "/usr/local/lib/python3.7/dist-packages/psycopg2/__init__.py:144: UserWarning:\n",
            "\n",
            "The psycopg2 wheel package will be renamed from release 2.8; in order to keep installing from binary please use \"pip install psycopg2-binary\" instead. For details see: <http://initd.org/psycopg/docs/install.html#binary-install-from-pypi>.\n",
            "\n"
          ]
        },
        {
          "output_type": "stream",
          "name": "stdout",
          "text": [
            "Collecting pyspellchecker\n",
            "  Downloading pyspellchecker-0.6.2-py3-none-any.whl (2.7 MB)\n",
            "\u001b[K     |████████████████████████████████| 2.7 MB 3.7 MB/s \n",
            "\u001b[?25hInstalling collected packages: pyspellchecker\n",
            "Successfully installed pyspellchecker-0.6.2\n"
          ]
        }
      ]
    },
    {
      "cell_type": "code",
      "metadata": {
        "id": "iRz4VwWDf7GB"
      },
      "source": [
        "#connecting to the database\n",
        "conn = psycopg2.connect(\"dbname = 'postgres' user = 'cpdbstudent' host = 'codd01.research.northwestern.edu' password = 'DataSci4AI'\")\n",
        "cur = conn.cursor()\n",
        "query = \"\"\"\n",
        "    select summary from  data_allegation where summary is not null and summary != ''\n",
        "\"\"\"\n",
        "outputquery = \"COPY ({0}) TO STDOUT WITH CSV HEADER\".format(query)\n",
        "with open('data_attachmentfile.csv', 'w') as f:\n",
        "    cur.copy_expert(outputquery, f)"
      ],
      "execution_count": null,
      "outputs": []
    },
    {
      "cell_type": "code",
      "metadata": {
        "id": "WtaHlB3Lf8Tg"
      },
      "source": [
        "train = pd.read_csv(\"data_attachmentfile.csv\")"
      ],
      "execution_count": null,
      "outputs": []
    },
    {
      "cell_type": "code",
      "metadata": {
        "colab": {
          "base_uri": "https://localhost:8080/",
          "height": 206
        },
        "id": "2nv6svBif_RS",
        "outputId": "4b92f114-47b3-4c87-dc67-d1aea3f50735"
      },
      "source": [
        "train.head(5)"
      ],
      "execution_count": null,
      "outputs": [
        {
          "output_type": "execute_result",
          "data": {
            "text/html": [
              "<div>\n",
              "<style scoped>\n",
              "    .dataframe tbody tr th:only-of-type {\n",
              "        vertical-align: middle;\n",
              "    }\n",
              "\n",
              "    .dataframe tbody tr th {\n",
              "        vertical-align: top;\n",
              "    }\n",
              "\n",
              "    .dataframe thead th {\n",
              "        text-align: right;\n",
              "    }\n",
              "</style>\n",
              "<table border=\"1\" class=\"dataframe\">\n",
              "  <thead>\n",
              "    <tr style=\"text-align: right;\">\n",
              "      <th></th>\n",
              "      <th>summary</th>\n",
              "    </tr>\n",
              "  </thead>\n",
              "  <tbody>\n",
              "    <tr>\n",
              "      <th>0</th>\n",
              "      <td>On June 1st, 2009, a complaint was registered ...</td>\n",
              "    </tr>\n",
              "    <tr>\n",
              "      <th>1</th>\n",
              "      <td>On 23 June 2009, a complaint was registered wi...</td>\n",
              "    </tr>\n",
              "    <tr>\n",
              "      <th>2</th>\n",
              "      <td>An incident involving two on-duty Chicago Poli...</td>\n",
              "    </tr>\n",
              "    <tr>\n",
              "      <th>3</th>\n",
              "      <td>On July 28th, 2009 a complaint was registered ...</td>\n",
              "    </tr>\n",
              "    <tr>\n",
              "      <th>4</th>\n",
              "      <td>On July 31 2009, a complaint was registered wi...</td>\n",
              "    </tr>\n",
              "  </tbody>\n",
              "</table>\n",
              "</div>"
            ],
            "text/plain": [
              "                                             summary\n",
              "0  On June 1st, 2009, a complaint was registered ...\n",
              "1  On 23 June 2009, a complaint was registered wi...\n",
              "2  An incident involving two on-duty Chicago Poli...\n",
              "3  On July 28th, 2009 a complaint was registered ...\n",
              "4  On July 31 2009, a complaint was registered wi..."
            ]
          },
          "metadata": {},
          "execution_count": 4
        }
      ]
    },
    {
      "cell_type": "code",
      "metadata": {
        "id": "m7Pe70Mqf_MI"
      },
      "source": [
        "corpus = train.copy()"
      ],
      "execution_count": null,
      "outputs": []
    },
    {
      "cell_type": "code",
      "metadata": {
        "colab": {
          "base_uri": "https://localhost:8080/",
          "height": 206
        },
        "id": "DfnaXjgQf_Kj",
        "outputId": "4418c1a5-193a-4d29-b1e5-8bb1965cba9d"
      },
      "source": [
        "df = train.copy()\n",
        "df.head()"
      ],
      "execution_count": null,
      "outputs": [
        {
          "output_type": "execute_result",
          "data": {
            "text/html": [
              "<div>\n",
              "<style scoped>\n",
              "    .dataframe tbody tr th:only-of-type {\n",
              "        vertical-align: middle;\n",
              "    }\n",
              "\n",
              "    .dataframe tbody tr th {\n",
              "        vertical-align: top;\n",
              "    }\n",
              "\n",
              "    .dataframe thead th {\n",
              "        text-align: right;\n",
              "    }\n",
              "</style>\n",
              "<table border=\"1\" class=\"dataframe\">\n",
              "  <thead>\n",
              "    <tr style=\"text-align: right;\">\n",
              "      <th></th>\n",
              "      <th>summary</th>\n",
              "    </tr>\n",
              "  </thead>\n",
              "  <tbody>\n",
              "    <tr>\n",
              "      <th>0</th>\n",
              "      <td>On June 1st, 2009, a complaint was registered ...</td>\n",
              "    </tr>\n",
              "    <tr>\n",
              "      <th>1</th>\n",
              "      <td>On 23 June 2009, a complaint was registered wi...</td>\n",
              "    </tr>\n",
              "    <tr>\n",
              "      <th>2</th>\n",
              "      <td>An incident involving two on-duty Chicago Poli...</td>\n",
              "    </tr>\n",
              "    <tr>\n",
              "      <th>3</th>\n",
              "      <td>On July 28th, 2009 a complaint was registered ...</td>\n",
              "    </tr>\n",
              "    <tr>\n",
              "      <th>4</th>\n",
              "      <td>On July 31 2009, a complaint was registered wi...</td>\n",
              "    </tr>\n",
              "  </tbody>\n",
              "</table>\n",
              "</div>"
            ],
            "text/plain": [
              "                                             summary\n",
              "0  On June 1st, 2009, a complaint was registered ...\n",
              "1  On 23 June 2009, a complaint was registered wi...\n",
              "2  An incident involving two on-duty Chicago Poli...\n",
              "3  On July 28th, 2009 a complaint was registered ...\n",
              "4  On July 31 2009, a complaint was registered wi..."
            ]
          },
          "metadata": {},
          "execution_count": 6
        }
      ]
    },
    {
      "cell_type": "code",
      "metadata": {
        "colab": {
          "base_uri": "https://localhost:8080/"
        },
        "id": "DP2zSnTCf_Jl",
        "outputId": "96420186-867a-479f-f3cf-eb411c9f1a64"
      },
      "source": [
        "with io.open('/content/data_attachmentfile.csv', encoding=\"utf-8\") as f:\n",
        "    text = f.read().lower()\n",
        "text = text.replace(\"\\n\", \" \")  # We remove newlines chars for nicer display\n",
        "print(\"Corpus length:\", len(text))\n",
        "\n",
        "chars = sorted(list(set(text)))\n",
        "print(\"Total chars:\", len(chars))\n",
        "char_indices = dict((c, i) for i, c in enumerate(chars))\n",
        "indices_char = dict((i, c) for i, c in enumerate(chars))\n",
        "\n",
        "# cut the text in semi-redundant sequences of maxlen characters\n",
        "maxlen = 40\n",
        "step = 3\n",
        "sentences = []\n",
        "next_chars = []\n",
        "for i in range(0, len(text) - maxlen, step):\n",
        "    sentences.append(text[i : i + maxlen])\n",
        "    next_chars.append(text[i + maxlen])\n",
        "print(\"Number of sequences:\", len(sentences))\n",
        "\n",
        "x = np.zeros((len(sentences), maxlen, len(chars)), dtype=np.bool)\n",
        "y = np.zeros((len(sentences), len(chars)), dtype=np.bool)\n",
        "for i, sentence in enumerate(sentences):\n",
        "    for t, char in enumerate(sentence):\n",
        "        x[i, t, char_indices[char]] = 1\n",
        "    y[i, char_indices[next_chars[i]]] = 1"
      ],
      "execution_count": null,
      "outputs": [
        {
          "output_type": "stream",
          "name": "stdout",
          "text": [
            "Corpus length: 1286518\n",
            "Total chars: 59\n",
            "Number of sequences: 428826\n"
          ]
        }
      ]
    },
    {
      "cell_type": "code",
      "metadata": {
        "id": "-Dg9DGhdf_GT"
      },
      "source": [
        "model = keras.Sequential(\n",
        "    [\n",
        "        keras.Input(shape=(maxlen, len(chars))),\n",
        "        layers.LSTM(128),\n",
        "        layers.Dense(len(chars), activation=\"softmax\"),\n",
        "    ]\n",
        ")\n",
        "optimizer = keras.optimizers.RMSprop(learning_rate=0.01)\n",
        "model.compile(loss=\"categorical_crossentropy\", optimizer=optimizer)"
      ],
      "execution_count": null,
      "outputs": []
    },
    {
      "cell_type": "code",
      "metadata": {
        "id": "nb60AKoWf-4W"
      },
      "source": [
        "def sample(preds, temperature=1.0):\n",
        "    # helper function to sample an index from a probability array\n",
        "    preds = np.asarray(preds).astype(\"float64\")\n",
        "    preds = np.log(preds) / temperature\n",
        "    exp_preds = np.exp(preds)\n",
        "    preds = exp_preds / np.sum(exp_preds)\n",
        "    probas = np.random.multinomial(1, preds, 1)\n",
        "    return np.argmax(probas)"
      ],
      "execution_count": null,
      "outputs": []
    },
    {
      "cell_type": "code",
      "metadata": {
        "id": "EyYlKQmwghk9",
        "colab": {
          "base_uri": "https://localhost:8080/"
        },
        "outputId": "6210b268-3cf5-489e-833c-14a884c282d5"
      },
      "source": [
        "epochs = 25\n",
        "batch_size = 128\n",
        "\n",
        "for epoch in range(epochs):\n",
        "    model.fit(x, y, batch_size=batch_size, epochs=1)\n",
        "    print()\n",
        "    print(\"Generating text after epoch: %d\" % epoch)\n",
        "\n",
        "    start_index = random.randint(0, len(text) - maxlen - 1)\n",
        "    for diversity in [0.2, 0.5]:\n",
        "        print(\"...Diversity:\", diversity)\n",
        "\n",
        "        generated = \"\"\n",
        "        sentence = text[start_index : start_index + maxlen]\n",
        "        print('...Generating with seed: \"' + sentence + '\"')\n",
        "\n",
        "        for i in range(400):\n",
        "            x_pred = np.zeros((1, maxlen, len(chars)))\n",
        "            for t, char in enumerate(sentence):\n",
        "                x_pred[0, t, char_indices[char]] = 1.0\n",
        "            preds = model.predict(x_pred, verbose=0)[0]\n",
        "            next_index = sample(preds, diversity)\n",
        "            next_char = indices_char[next_index]\n",
        "            sentence = sentence[1:] + next_char\n",
        "            generated += next_char\n",
        "\n",
        "        print(\"...Generated: \", generated)\n",
        "        print()"
      ],
      "execution_count": null,
      "outputs": [
        {
          "output_type": "stream",
          "name": "stdout",
          "text": [
            "3351/3351 [==============================] - 21s 5ms/step - loss: 1.3012\n",
            "\n",
            "Generating text after epoch: 0\n",
            "...Diversity: 0.2\n",
            "...Generating with seed: \"red firearm and failed to report the mis\"\n",
            "...Generated:  conduct was alleged that officer b and force and witness and and the complainants and the complainants and that he was arrested and reports and statement to the complainants and that he was arrested that he was able that he was abused the complainants and a false report it was alleged that officer a and failed to report it was alleged that officer b and b tochece officer was intoxicated and and th\n",
            "\n",
            "...Diversity: 0.5\n",
            "...Generating with seed: \"red firearm and failed to report the mis\"\n",
            "...Generated:  conducted and officer witnesses, and intoxicated. it was alleged that officer a agains that occurred with the independent police review authority (ipra) repartments for a follow hanty and reconding and witnes his hand. the subject. it was alleged that the accused officer was alleged that officer b toches accidentally dbunt officer between a tactical responded and that he was staling and his distri\n",
            "\n",
            "3351/3351 [==============================] - 17s 5ms/step - loss: 0.9968\n",
            "\n",
            "Generating text after epoch: 1\n",
            "...Diversity: 0.2\n",
            "...Generating with seed: \"se plate for unauthorized purposes from \"\n",
            "...Generated:  the complainant as a filed to complete a traffic struck the complainant and a filed to increase of the complainant and an officer aggraved and a fill and reports, ipra recommended to not sustain the allegation that occurred on april 2000, a complaint was registered with the independent police review authority (ipra), regarding an incident involving involving an on-duty cpd officers and a filld a f\n",
            "\n",
            "...Diversity: 0.5\n",
            "...Generating with seed: \"se plate for unauthorized purposes from \"\n",
            "...Generated:  the accused members, the accused member with a complete in that he and bedired witness statements and officers patins on the arrested an officer and the department reports, pervisured this investigation with the complainants with a person of the complainant subject 1 then alleged that officer b and lited a follow not hospital officer witness report of investigation of a firearm at the victims with\n",
            "\n",
            "3351/3351 [==============================] - 17s 5ms/step - loss: 0.9421\n",
            "\n",
            "Generating text after epoch: 2\n",
            "...Diversity: 0.2\n",
            "...Generating with seed: \"omplainant/girlfriend.\" \"in an incident \"\n",
            "...Generated:  involving an on-duty cpd officer was inattentive to duty in that he accidentally discharged her hands and and physically abused the complainant, it was alleged that officer a and b failed to report it was alleged that officer a and b and b), it was alleged that officer b failed to report it witness statements from the accused officer was intoxicated. it was alleged that officer a and b and c) and \n",
            "\n",
            "...Diversity: 0.5\n",
            "...Generating with seed: \"omplainant/girlfriend.\" \"in an incident \"\n",
            "...Generated:  involving an off-duty cpd officers again occurred on june 1001 difrie gatt investigation on the face of the incident. it was alleged that officer b and ble control at the incident. at the officer whichorated a chicago police officers and b and curbed profanities at the complainant; and that his with incident. it was alleged that on april 29, 2010, a complaint was registered with the independent po\n",
            "\n",
            "3351/3351 [==============================] - 17s 5ms/step - loss: 0.9113\n",
            "\n",
            "Generating text after epoch: 3\n",
            "...Diversity: 0.2\n",
            "...Generating with seed: \"reed to accept ipras finding of sustaine\"\n",
            "...Generated:  d for the allegation that officer a and c) and c) and c) and one one (1) day suspension for the accused officer against the accused officer, contact with the complainant; and provided a false statement officer agreed five (2) day suspension for the accused members and the officers and the officers and the officer and by the accused officer, failed to report the accused officer agreed firearm and a\n",
            "\n",
            "...Diversity: 0.5\n",
            "...Generating with seed: \"reed to accept ipras finding of sustaine\"\n",
            "...Generated:  d for the allegation that officer b and contact which and had in the police officer, threatened to the officer arm and statements of a fireasive for officer witnesses at the events officer. at the scene. ipra recommended to sustain the allegation that officer a failed to report intoxicated violation ail the accused officers agreed for the officer that the accused officer, and brought discredit upo\n",
            "\n",
            "3351/3351 [==============================] - 17s 5ms/step - loss: 0.8894\n",
            "\n",
            "Generating text after epoch: 4\n",
            "...Diversity: 0.2\n",
            "...Generating with seed: \"inant/officer by stating words to the ef\"\n",
            "...Generated:  fectuating and the officers and the complainant; and struck the complainant; failed to report it was alleged that officer a and b failed to report it against the accused officer and the complainant; and threatened the complainant; and the complainant; and an officers and the complainant; and the officer and the complainant; and the complainant; and the complainant; and the officer and the complain\n",
            "\n",
            "...Diversity: 0.5\n",
            "...Generating with seed: \"inant/officer by stating words to the ef\"\n",
            "...Generated:  fer; purcues, ipra recommended to sustain officer was inattentive to duty in the 14th district, on april 19, 2011 in the 14th district on mediation. it was alleged that officer a failed to report it a complaint by directions possession of a brought discrartied officer and complainants (security (officer failed to return that officer a failed to properly admister a vehicle and witnesses, and the co\n",
            "\n",
            "3351/3351 [==============================] - 17s 5ms/step - loss: 0.8725\n",
            "\n",
            "Generating text after epoch: 5\n",
            "...Diversity: 0.2\n",
            "...Generating with seed: \"r g failed to report information concern\"\n",
            "...Generated:  ed the complainant, it was alleged that officer b failed to report it in the accused officer and the accused officers was intoxicated while off-duty; and for a false reports, regarding an incident occurring in the 22nd district, on may 2009, a complaint was registered with the independent police review authority (ipra), regarding an incident occurred in the 22nd district, on april 1, 2010, a compl\n",
            "\n",
            "...Diversity: 0.5\n",
            "...Generating with seed: \"r g failed to report information concern\"\n",
            "...Generated:   with the police officers information of the filldw he investigation of the accused officer was recovding statements of the complainants from the accused officer, believed that he belt by medical areated that officer b by the incidents parking a front officer attempted to copa on the arrested a supervisor. in the the prepance with the civilian office of police officers information, it was alleged \n",
            "\n",
            "3351/3351 [==============================] - 17s 5ms/step - loss: 0.8594\n",
            "\n",
            "Generating text after epoch: 6\n",
            "...Diversity: 0.2\n",
            "...Generating with seed: \" 1 if he did not stop recording. investi\"\n",
            "...Generated:  gation of the accused officer and threatened to statements officer and the officers and threatened to the officers and threatened to the complainant; and and failed to report it in the accused officers and the complainant; and and failed to report it. it was alleged that officer a and the complainant. it was alleged that officer a and the complainant; and failed to report it accident involving an \n",
            "\n",
            "...Diversity: 0.5\n",
            "...Generating with seed: \" 1 if he did not stop recording. investi\"\n",
            "...Generated:  gation of the face on december 1, 2009, determined to register investigation of the department reports, ipra recommended to sustain the allegation that officer a intoxicated to report by the complainant; and threatened to prevent to remove the accused officers was inattentive to complainant a threatened to see a tasting and failed to report it to his firearm, properly witness statements from the a\n",
            "\n",
            "3351/3351 [==============================] - 17s 5ms/step - loss: 0.8491\n",
            "\n",
            "Generating text after epoch: 7\n",
            "...Diversity: 0.2\n",
            "...Generating with seed: \"rested on october 10, 2017 when she went\"\n",
            "...Generated:   to the greuns of the accused officer agreed to accept ipras finding of sustained for the allegation that officer a and sergeant a and b and b without justification, ipra recommended to sustain the allegation that officer a and threatened to a firearm with the complainant, it was alleged that officer a and one officers a and b without justification, ipra recommended to sustain the allegation that \n",
            "\n",
            "...Diversity: 0.5\n",
            "...Generating with seed: \"rested on october 10, 2017 when she went\"\n",
            "...Generated:   for the incident. based on the interater of the chicago police department (cpd) officer. it was alleged that officer a and fired the investigation of the accused members threatened the victim and three officers and officer a failed to report it on the frong to the weapon regarding the accused reports, ipra recommended to not sustain the allegations that officer a filed an officers approximately o\n",
            "\n",
            "3351/3351 [==============================] - 17s 5ms/step - loss: 0.8383\n",
            "\n",
            "Generating text after epoch: 8\n",
            "...Diversity: 0.2\n",
            "...Generating with seed: \"he commander, failed to provide the subj\"\n",
            "...Generated:  ect 1 was not sustain of the arrest officer was intoxicated and failed to properly the accused officer and the incident that occurred on the accused officer and the incident occurring in the 22nd district, in which off-duty chicago police officers (officer a and b) that occurred in the 22nd district on the accused officer and the complainant, it was alleged that officer b failed to report it was i\n",
            "\n",
            "...Diversity: 0.5\n",
            "...Generating with seed: \"he commander, failed to provide the subj\"\n",
            "...Generated:  ect 1, reports, reports and the intortical accused officer, it was alleged that officer b and failed to properly doored the victims, for the office of properly interview. based on statements from the accused officer, it was alleged that the accused officers (offict officer was inattentive to duty in that he accidentuters and while officer b, and b and reason of the incident officer b and physical \n",
            "\n",
            "3351/3351 [==============================] - 17s 5ms/step - loss: 0.8299\n",
            "\n",
            "Generating text after epoch: 9\n",
            "...Diversity: 0.2\n",
            "...Generating with seed: \"lster. in attempting to return the taser\"\n",
            "...Generated:   with a firearm at the complainant, it was alleged that officer a and failed to report it against the complainant, it was alleged that officer a and failed to report it, in a monitory a false statements for the accused officer and failed to report it against the complainant. it was alleged that officer b failed to complete a captured the complainant, it was alleged that officer b failed to complet\n",
            "\n",
            "...Diversity: 0.5\n",
            "...Generating with seed: \"lster. in attempting to return the taser\"\n",
            "...Generated:   resulting with the officers was in the incident that officers a and b on the chicago police department (cpd) officer failed to inventory vehicle, and on the sceney, ipra recommended to sustain the allegation that officer b pushed the victims and the officers was transported to transport the complainant, backficated the accused officers was in the back of the accused officer, and her involved in a\n",
            "\n",
            "3351/3351 [==============================] - 17s 5ms/step - loss: 0.8252\n",
            "\n",
            "Generating text after epoch: 10\n",
            "...Diversity: 0.2\n",
            "...Generating with seed: \"o was the son of officer _girlfriend, _a\"\n",
            "...Generated:  nd officer _and the officers and the arrest and the officers and the officers and the officers and the officers and the accused officers failed to complete a tactical response report (trr) and failed to report it against the accused officers and the complainant; and failed to complete a call and the officers and the officers and the officers and the officers and the officers and the officers and t\n",
            "\n",
            "...Diversity: 0.5\n",
            "...Generating with seed: \"o was the son of officer _girlfriend, _a\"\n",
            "...Generated:  nd his statements and stright from the officers _and face; failed to inventinocked that the accused officers accidentally discharged his weapon. during the arrest the complainant in the armed and threatened her front officer, and statement to the incident and failed to report it against the victim and recording his peck in the mannice of the complainants without justification, ipra recommended to \n",
            "\n",
            "3351/3351 [==============================] - 17s 5ms/step - loss: 0.8191\n",
            "\n",
            "Generating text after epoch: 11\n",
            "...Diversity: 0.2\n",
            "...Generating with seed: \" and kicked the victim about the head an\"\n",
            "...Generated:  d the officers were intoxicated while off-duty; and physically abused the complainant, in that he accidentrers and threatened the complainant. it was alleged that officer a and complainant a and b failed to complete a call and in the front of the complainant, was arrested the complainant and failed to report it. it was alleged that officer a failed to report it. it was alleged that officer b faile\n",
            "\n",
            "...Diversity: 0.5\n",
            "...Generating with seed: \" and kicked the victim about the head an\"\n",
            "...Generated:  d lastly, and both officers were a chicago police officers and failed to report it into a the physical altercation with the complainant; and threatened to investigation, and the officers and the complainant; failed to usility authority (ipra) as the civilian oversighther (officer a, b by the officers drove a supervisor to the officers officer b failed to complete a call behaty attempted to infinat\n",
            "\n",
            "3351/3351 [==============================] - 17s 5ms/step - loss: 0.8137\n",
            "\n",
            "Generating text after epoch: 12\n",
            "...Diversity: 0.2\n",
            "...Generating with seed: \" officer was arrested for violation of o\"\n",
            "...Generated:  fficer a false to the officers were intoxicated, and the complainant, in a struck the complainant; and failed to complete a tactical response report (trr) and for the accused officer, in addition, it was alleged that officer b failed to report it with a firearm while he was arrested to his firearm and failed to complete a call and the officers were intoxicated. ipra recommended to sustain the alle\n",
            "\n",
            "...Diversity: 0.5\n",
            "...Generating with seed: \" officer was arrested for violation of o\"\n",
            "...Generated:  fficer a told the complainant; and failed to report the investigation of the accused officer agreed to accident of the complainant, the officers and placed in the front of the incident while he was intoxicated. ipra recommended to sustain the allegation that officer a and failed to report a firearm to copa on a firearm and continued a has approached him and the officers were detained to the intoxi\n",
            "\n",
            "3351/3351 [==============================] - 17s 5ms/step - loss: 0.8112\n",
            "\n",
            "Generating text after epoch: 13\n",
            "...Diversity: 0.2\n",
            "...Generating with seed: \"ng kicked or punched. in-car video from \"\n",
            "...Generated:  the officers and failed to report it. in that he accidentally discharged his weapon and physical altercation witness statements of the complainant against the complainant; and witnesses, ipra recommended to sustain the allegation that officer a and complainant a failed to report it. in the interview of the complainant, and failed to report it. ipra recommended to sustain the allegation that office\n",
            "\n",
            "...Diversity: 0.5\n",
            "...Generating with seed: \"ng kicked or punched. in-car video from \"\n",
            "...Generated:  his firearm while officer _stated that he was processingwant of the officers were on the face and physically abused the complainant; and physically and made a false report; and failed to report it. it was alleged that officer a recommended a fiftarms department (cpd) officer failed to complete a field contrary recommenday allegations that officer a performed the complainant, officer a fired the ac\n",
            "\n",
            "3351/3351 [==============================] - 17s 5ms/step - loss: 0.8054\n",
            "\n",
            "Generating text after epoch: 14\n",
            "...Diversity: 0.2\n",
            "...Generating with seed: \"received a criminal trespass warning; an\"\n",
            "...Generated:  d failed to report it. ipra recommended to sustain the allegation that officer a put a false reports in the incident officer a and the complainant; and failed to report it; directed profanities toward the accused officers were not sustained for the allegations that officer a failed to report it, in the accused officers and the complainant; and failed to report it. ipra recommended to sustain the a\n",
            "\n",
            "...Diversity: 0.5\n",
            "...Generating with seed: \"received a criminal trespass warning; an\"\n",
            "...Generated:  d failed to report orde property of the officers arrested the incident and physically abused the complainant; and failed to report it; and threatened to provide officer was inattentive was gave violation from the civilian officer by a fort again that the district of the incident in the improperly information to the complainant; and threatened to provide a call to the apartment and a tactical respo\n",
            "\n",
            "3351/3351 [==============================] - 17s 5ms/step - loss: 0.8019\n",
            "\n",
            "Generating text after epoch: 15\n",
            "...Diversity: 0.2\n",
            "...Generating with seed: \"ely consistent with _n that officer _ins\"\n",
            "...Generated:  ide the area and the officers and that the accused officers were not sustained for the allegation that officer a and failed to report it. it was alleged that officer a and failed to report it. it was alleged that officer a and failed to report it; and failed to initiate a controand to the officers and threatened the complainant; and failed to report it; and failed to report it; and failed to repor\n",
            "\n",
            "...Diversity: 0.5\n",
            "...Generating with seed: \"ely consistent with _n that officer _ins\"\n",
            "...Generated:  ide the street and attempted to car. officer _was tackled a contrant of the arresting on april 18, 2019, a complaint was registered with the independent police review authority (ipra), regarding an incident involving an off-duty cpd officers (officers a, b failed to report it. it was alleged that officer a and a failed to document that the accused officers and for the accused officers disputed a f\n",
            "\n",
            "3351/3351 [==============================] - 17s 5ms/step - loss: 0.7990\n",
            "\n",
            "Generating text after epoch: 16\n",
            "...Diversity: 0.2\n",
            "...Generating with seed: \"f the incident, with an estimated blood \"\n",
            "...Generated:  on the area and threatened to stop the arrest of the complainant and threatened to kill the complainant and threatened to kill the complainant and failed to complete a car and a firearm and threatened to sergeant and threatened to supervisor and failed to complete a contact card for complainants a and b and complainant a and b and c), officer b failed to complete a contact card attempted to proper\n",
            "\n",
            "...Diversity: 0.5\n",
            "...Generating with seed: \"f the incident, with an estimated blood \"\n",
            "...Generated:  a false incident investigation of the accused officer. based on tortimed by the accused officer, it was alleged that officer - and a false statements of a sustained for the allegation that officer b and was intoxicated; and failed to complete a traffic stop that she was arrested and chest and a assault of the complainant and failed to report it. it was alleged that officer a and threatened to givi\n",
            "\n",
            "3351/3351 [==============================] - 17s 5ms/step - loss: 0.7957\n",
            "\n",
            "Generating text after epoch: 17\n",
            "...Diversity: 0.2\n",
            "...Generating with seed: \" take _into custody, officer _performed \"\n",
            "...Generated:  a vehicle and threatened to the complainant, in that he accidentally a fellow of the incident. ipra recommended a fifteen (15) day suspension for officer a and complainant a and b witnesses, ipra recommended to sustain the allegation that officer a failed to report it. it was alleged that officer a failed to report it.\" \"on juntial property. ipra recommended to sustain the allegation that officer \n",
            "\n",
            "...Diversity: 0.5\n",
            "...Generating with seed: \" take _into custody, officer _performed \"\n",
            "...Generated:  a firearm and able to property, verbally abused the complainant, in a verbally abusion of the incident that officers was arrested to a fellow officers because were intoxicated. further, ipra recommended to sustain the allegation that officer b failed to complete a contact cate the accused officers attempted to investigation on the face in the accused officers were time of a fellow officers for the\n",
            "\n",
            "3351/3351 [==============================] - 17s 5ms/step - loss: 0.7950\n",
            "\n",
            "Generating text after epoch: 18\n",
            "...Diversity: 0.2\n",
            "...Generating with seed: \"s alleged that officer a searched the su\"\n",
            "...Generated:  bject while the accused officers and failed to report it. based on statements from the accused officers against a fifteen (15) day suspension for the accused officer.\" \"on juntial continued to sustain the allegation that officer a failed to complete a call and failed to complete a call and physically abused the complainant, which an off-duty chicago police department (cpd) officers (officers b and\n",
            "\n",
            "...Diversity: 0.5\n",
            "...Generating with seed: \"s alleged that officer a searched the su\"\n",
            "...Generated:  bject which punched him in the face. in lotter, threatened to the allegation that officer a and failed to report it, ipra recommended to not sustain the allegation that officers a and witnesses, ipra recommended to sustain the allegation that officers b and officer stated to have and continued to sustain the ground. during the arrest of the front of the officer, ipra recommended to not sustain the\n",
            "\n",
            "3351/3351 [==============================] - 17s 5ms/step - loss: 0.7960\n",
            "\n",
            "Generating text after epoch: 19\n",
            "...Diversity: 0.2\n",
            "...Generating with seed: \"was conducted. subject 1 was issued 3 ci\"\n",
            "...Generated:  tain a chicago police officers a and the complainant against the arrest of the complainant, and the complainants as the accused officer. it was alleged that officer a and b and complainant a and b and complainant a and b), it was alleged that officers a and b and officer a and officer b and officer b and officer a and for the accused officer, ipra recommended to not sustain the allegation that off\n",
            "\n",
            "...Diversity: 0.5\n",
            "...Generating with seed: \"was conducted. subject 1 was issued 3 ci\"\n",
            "...Generated:  vilian 1 and denied the arrest of the complainant. it was alleged that the accused officer because were in the incident in the armer that he was intoxicated, and the sergeant and violated a firearm. officer _and _in the incident that the asereces of him and pushed him to the department. ipra recommended to not sustain the allegation that officer a failed to report it. it was alleged that officers \n",
            "\n",
            "3351/3351 [==============================] - 17s 5ms/step - loss: 0.7931\n",
            "\n",
            "Generating text after epoch: 20\n",
            "...Diversity: 0.2\n",
            "...Generating with seed: \"ted a full and complete investigation of\"\n",
            "...Generated:   this at officers a and b and complainant a and b and complainant against the accused officers and failed to properly december 14, 2017, a complaint was registered with the independent police review authority (ipra), regarding an incident that occurred in the 11th district, in which ancely continued to sergeant a failed to secure his firearm at the complainant. it was alleged that officer a failed\n",
            "\n",
            "...Diversity: 0.5\n",
            "...Generating with seed: \"ted a full and complete investigation of\"\n",
            "...Generated:   this narcooee officers continued to follow the complainant; and failed to initiate a complaint with the individual a which involved in the officers were continued to relea the complainant. officer _assisted that working the arrest, _to the front of the complainant _on the front of the complainant, the vehicle on the face. officer _between behind him at the front of the street, threatened her arm \n",
            "\n",
            "3351/3351 [==============================] - 17s 5ms/step - loss: 0.7895\n",
            "\n",
            "Generating text after epoch: 21\n",
            "...Diversity: 0.2\n",
            "...Generating with seed: \"demanded that she allow him to search he\"\n",
            "...Generated:  r window of the traffic order of the complainants from the accused officers against the accused officer, ipra recommended to sustain the allegation that officer b failed to complete a tactical ail and lises, ipra recommended to not sustain the allegation that officer a failed to return or inventory the officers and failed to complete a tactical ail and the complainant; and failed to return or also\n",
            "\n",
            "...Diversity: 0.5\n",
            "...Generating with seed: \"demanded that she allow him to search he\"\n",
            "...Generated:   was arrested to registerations officer a continuted. ipra recommended to sustain the allegation that officer b failed to return bace him and behind him to the ground and filed a firearm of the firearm at the victim; and failed to take office of the complainant; and by the residence and threatened to copa both officer a.\" \"on january 4, 2009, a complaint was registered with the independ ptoce or o\n",
            "\n",
            "3351/3351 [==============================] - 17s 5ms/step - loss: 0.7856\n",
            "\n",
            "Generating text after epoch: 22\n",
            "...Diversity: 0.2\n",
            "...Generating with seed: \"earm; failed to complete the required de\"\n",
            "...Generated:  tective a finding of sustained for the allegation that officer a failed to properly door and threatened to the complainants and the complainants and failed to complete a call of a firearm at the complainant. it was alleged that officer a failed to complete a call of the complainant, in an incident involving an off-duty cpd officers (officer b fgered the complainant, failed to report it. based on s\n",
            "\n",
            "...Diversity: 0.5\n",
            "...Generating with seed: \"earm; failed to complete the required de\"\n",
            "...Generated:  partment reports, ipra recommended to sustain the allegation that officer a fired the complainant/ex-girlfriend, and failed to inventory a timely members against the complainants stoulen and threatened to shot and speaking be in the incident report when the accused officers find officer was shot (officer _failed to conter a control of the department accidentally displayed a firearm with a civilian\n",
            "\n",
            "3351/3351 [==============================] - 17s 5ms/step - loss: 0.7850\n",
            "\n",
            "Generating text after epoch: 23\n",
            "...Diversity: 0.2\n",
            "...Generating with seed: \"ccuseds disciplinary file.\" \"on march 25\"\n",
            "...Generated:  , 2017, at approximately 10 at approximately 10 at approximately 10 at approximately 10 at approximately 11, 2009, a complaint was registered with the independent police review authority (ipra), regarding an incident involving an on-duty chicago police department (cpd) officers (officers b and c), and failed to report it. it was alleged that officer a failed to complete a contact with the complain\n",
            "\n",
            "...Diversity: 0.5\n",
            "...Generating with seed: \"ccuseds disciplinary file.\" \"on march 25\"\n",
            "...Generated:  , 2017, and control to the ground, and threatened the complainant, based on statements from the accused officers for subject for the complainant, failed to report it, and failed to improper search witness statement to the investigation, failed to report it. based on a mediation, the accused officer agreed to accept ipras finding of sustained for the allegation that officer a failed to report it. i\n",
            "\n",
            "3351/3351 [==============================] - 17s 5ms/step - loss: 0.7865\n",
            "\n",
            "Generating text after epoch: 24\n",
            "...Diversity: 0.2\n",
            "...Generating with seed: \"pa finds that officer a?s actions did no\"\n",
            "...Generated:  t continued to stop and complainant as the officers and subject 1 and officer _and _was arrested that he was in the handcuffs. officer _and _continued to physically abused the complainant, ipra recommended to sustain the allegation that officer a put his arrest of the complainant and failed to report it. ipra recommended to sustain the allegation that officer b failed to report it. it was alleged \n",
            "\n",
            "...Diversity: 0.5\n",
            "...Generating with seed: \"pa finds that officer a?s actions did no\"\n",
            "...Generated:  t chicago, il against a department officer and officer a and failed to property and (officers a and b witnesses, reports, victim and witnesses, ipra recommended to not sustain the allegation that officer - and officer a struck the victim shirt and then processing. officer b and witnesses, ipra recommended a finding of not sustained for the allegation that officer a was intoxicated, ipra recommende\n",
            "\n"
          ]
        }
      ]
    },
    {
      "cell_type": "code",
      "metadata": {
        "id": "o8vocc1egnwP",
        "colab": {
          "base_uri": "https://localhost:8080/"
        },
        "outputId": "aa887e8b-7884-4f84-b469-ccf86d19737e"
      },
      "source": [
        "np.max(x_pred[0])"
      ],
      "execution_count": null,
      "outputs": [
        {
          "output_type": "execute_result",
          "data": {
            "text/plain": [
              "1.0"
            ]
          },
          "metadata": {},
          "execution_count": 11
        }
      ]
    },
    {
      "cell_type": "code",
      "metadata": {
        "id": "bM0I1HQLgnu3",
        "colab": {
          "base_uri": "https://localhost:8080/"
        },
        "outputId": "a5087b95-253b-4a1d-a548-f72ad74df779"
      },
      "source": [
        "sentence = text[start_index : start_index + maxlen]\n",
        "print('...Generating with seed: \"' + sentence + '\"')"
      ],
      "execution_count": null,
      "outputs": [
        {
          "output_type": "stream",
          "name": "stdout",
          "text": [
            "...Generating with seed: \"pa finds that officer a?s actions did no\"\n"
          ]
        }
      ]
    },
    {
      "cell_type": "code",
      "metadata": {
        "id": "qFOkj8usgnti",
        "colab": {
          "base_uri": "https://localhost:8080/"
        },
        "outputId": "594228f1-6a35-4650-be56-f1ef55ac17d7"
      },
      "source": [
        "start_index = random.randint(0, len(text) - maxlen - 1)\n",
        "for diversity in [0.2, 0.5]:\n",
        "    print(\"...Diversity:\", diversity)\n",
        "\n",
        "    generated = \"\"\n",
        "    sentence = text[start_index : start_index + maxlen]\n",
        "    print('...Generating with seed: \"' + sentence + '\"')\n",
        "\n",
        "    for i in range(20):\n",
        "        x_pred = np.zeros((1, maxlen, len(chars)))\n",
        "        for t, char in enumerate(sentence):\n",
        "            x_pred[0, t, char_indices[char]] = 1.0\n",
        "        preds = model.predict(x_pred, verbose=0)[0]\n",
        "        next_index = sample(preds, diversity)\n",
        "        next_char = indices_char[next_index]\n",
        "        sentence = sentence[1:] + next_char\n",
        "        generated += next_char\n",
        "\n",
        "    print(\"...Generated: \", generated)\n",
        "    print()"
      ],
      "execution_count": null,
      "outputs": [
        {
          "output_type": "stream",
          "name": "stdout",
          "text": [
            "...Diversity: 0.2\n",
            "...Generating with seed: \" to the victim and her family members on\"\n",
            "...Generated:   the arment of the a\n",
            "\n",
            "...Diversity: 0.5\n",
            "...Generating with seed: \" to the victim and her family members on\"\n",
            "...Generated:   the both officers, \n",
            "\n"
          ]
        }
      ]
    },
    {
      "cell_type": "code",
      "metadata": {
        "id": "5p4jdDaHgwPO",
        "colab": {
          "base_uri": "https://localhost:8080/"
        },
        "outputId": "290da959-ab1d-47b2-c64b-c542173d3b7c"
      },
      "source": [
        "start_index = random.randint(0, len(text) - maxlen - 1)\n",
        "for diversity in [0.2, 0.5]:\n",
        "    print(\"...Diversity:\", diversity)\n",
        "\n",
        "    generated = \"\"\n",
        "    sentence = text[start_index : start_index + maxlen]\n",
        "    print('...Input Sentence: \"' + sentence + '\"')\n",
        "    count = 0\n",
        "    for i in range(20):\n",
        "        if count>3:\n",
        "          break\n",
        "        x_pred = np.zeros((1, maxlen, len(chars)))\n",
        "        for t, char in enumerate(sentence):\n",
        "            x_pred[0, t, char_indices[char]] = 1.0\n",
        "        preds = model.predict(x_pred, verbose=0)[0]\n",
        "        next_index = sample(preds, diversity)\n",
        "        next_char = indices_char[next_index]\n",
        "        sentence = sentence[1:] + next_char\n",
        "        generated += next_char\n",
        "        if next_char == ' ':\n",
        "          count += 1\n",
        "\n",
        "    print(\"...Autocomplete: \", generated)\n",
        "    print()"
      ],
      "execution_count": null,
      "outputs": [
        {
          "output_type": "stream",
          "name": "stdout",
          "text": [
            "...Diversity: 0.2\n",
            "...Input Sentence: \" battery, and subsequently pleaded guilt\"\n",
            "...Autocomplete:  y of the complainant\n",
            "\n",
            "...Diversity: 0.5\n",
            "...Input Sentence: \" battery, and subsequently pleaded guilt\"\n",
            "...Autocomplete:  y of the department \n",
            "\n"
          ]
        }
      ]
    },
    {
      "cell_type": "code",
      "metadata": {
        "id": "TyaImEZWgnlk",
        "colab": {
          "base_uri": "https://localhost:8080/"
        },
        "outputId": "5ef6785e-038c-42c2-9115-5e3ab4228da1"
      },
      "source": [
        "print(\"Done!\")"
      ],
      "execution_count": null,
      "outputs": [
        {
          "output_type": "stream",
          "name": "stdout",
          "text": [
            "Done!\n"
          ]
        }
      ]
    }
  ]
}